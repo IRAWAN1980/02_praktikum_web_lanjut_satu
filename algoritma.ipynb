{
  "nbformat": 4,
  "nbformat_minor": 0,
  "metadata": {
    "colab": {
      "provenance": [],
      "authorship_tag": "ABX9TyOh+FKlwr6QkZ+ytsgot9D9",
      "include_colab_link": true
    },
    "kernelspec": {
      "name": "python3",
      "display_name": "Python 3"
    },
    "language_info": {
      "name": "python"
    }
  },
  "cells": [
    {
      "cell_type": "markdown",
      "metadata": {
        "id": "view-in-github",
        "colab_type": "text"
      },
      "source": [
        "<a href=\"https://colab.research.google.com/github/IRAWAN1980/02_praktikum_web_lanjut_satu/blob/master/algoritma.ipynb\" target=\"_parent\"><img src=\"https://colab.research.google.com/assets/colab-badge.svg\" alt=\"Open In Colab\"/></a>"
      ]
    },
    {
      "cell_type": "code",
      "execution_count": null,
      "metadata": {
        "colab": {
          "base_uri": "https://localhost:8080/"
        },
        "id": "Pqfr7EKLUW2H",
        "outputId": "74f33a55-af35-4697-b5e5-3c3226610cba"
      },
      "outputs": [
        {
          "output_type": "stream",
          "name": "stdout",
          "text": [
            "3\n"
          ]
        }
      ],
      "source": [
        "def levenshtein_distance(s1, s2):\n",
        "  # Menentukan panjang masing-masing string\n",
        "  m = len(s1)\n",
        "  n = len(s2)\n",
        "\n",
        "  # Membuat sebuah matrix dengan baris dan kolom sesuai dengan panjang masing-masing string\n",
        "  d = [[0 for _ in range(n + 1)] for _ in range(m + 1)]\n",
        "\n",
        "  # Inisialisasi nilai pada baris dan kolom pertama dari matrix\n",
        "  for i in range(m + 1):\n",
        "    d[i][0] = i\n",
        "  for j in range(n + 1):\n",
        "    d[0][j] = j\n",
        "\n",
        "  # Iterasi melalui setiap karakter pada masing-masing string\n",
        "  for i in range(1, m + 1):\n",
        "    for j in range(1, n + 1):\n",
        "      # Jika karakter pada posisi yang sama sama, maka tidak perlu operasi edit\n",
        "      if s1[i - 1] == s2[j - 1]:\n",
        "        cost = 0\n",
        "      # Jika tidak sama, maka perlu operasi edit\n",
        "      else:\n",
        "        cost = 1\n",
        "      # Menentukan nilai minimal dari tiga kemungkinan operasi edit\n",
        "      d[i][j] = min(d[i - 1][j] + 1, d[i][j - 1] + 1, d[i - 1][j - 1] + cost)\n",
        "\n",
        "  # Nilai akhir pada baris terakhir dan kolom terakhir adalah jarak Levenshtein\n",
        "  return d[m][n]\n",
        "distance = levenshtein_distance(\"kitten\", \"sitting\")\n",
        "print(distance)  # Output: 3\n",
        "\n"
      ]
    }
  ]
}